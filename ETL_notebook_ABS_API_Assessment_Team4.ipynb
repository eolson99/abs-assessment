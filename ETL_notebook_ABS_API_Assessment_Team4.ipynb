{
 "cells": [
  {
   "cell_type": "markdown",
   "id": "998c9ebc",
   "metadata": {},
   "source": [
    "First, we import the relevant packages and make our API calls. (EXTRACT PHASE)"
   ]
  },
  {
   "cell_type": "code",
   "execution_count": 1,
   "id": "d52cd304",
   "metadata": {},
   "outputs": [],
   "source": [
    "import requests\n",
    "import config\n",
    "import pandas as pd\n",
    "import matplotlib.pyplot as plt \n",
    "#% matpltlib inline\n",
    "\n",
    "key = config.key\n",
    "\n",
    "api_PAY = f'https://api.census.gov/data/2018/abscs?get=NAME,EMP,PAYANN&for=state:*&NAICS2017=54&key={key}'\n",
    "api_AI_use = f'https://api.census.gov/data/2018/abstcb?get=NAME,TECHUSE_LABEL,FIRMPDEMP,FIRMPDEMP_PCT,EMP&for=state:*&NAICS2017=54&TECHUSE=T1E03B01&TECHUSE=T1E03B99&key={key}'\n",
    "api_CLOUD_use = f'https://api.census.gov/data/2018/abstcb?get=NAME,TECHUSE_LABEL,FIRMPDEMP,FIRMPDEMP_PCT,EMP&for=state:*&NAICS2017=54&TECHUSE=T2E03B01&TECHUSE=T2E03B99&key={key}'\n",
    "api_AI_sell= f'https://api.census.gov/data/2018/abstcb?get=NAME,TECHSELL_LABEL,FIRMPDEMP,FIRMPDEMP_PCT,EMP&for=state:*&NAICS2017=54&TECHSELL=T1E20J01&TECHSELL=T1E20J02&key={key}'\n",
    "api_CLOUD_sell =  f'https://api.census.gov/data/2018/abstcb?get=NAME,TECHSELL_LABEL,FIRMPDEMP,FIRMPDEMP_PCT,EMP&for=state:*&NAICS2017=54&TECHSELL=T2E20J01&TECHSELL=T2E20J02&key={key}'\n"
   ]
  },
  {
   "cell_type": "markdown",
   "id": "93d5afc8",
   "metadata": {},
   "source": [
    "Next, we load the data in Pandas DF's for cleaning and transforming. (LOAD PHASE)"
   ]
  },
  {
   "cell_type": "code",
   "execution_count": 2,
   "id": "c34d8618",
   "metadata": {
    "scrolled": true
   },
   "outputs": [],
   "source": [
    "#Used to determine 'avg pay', defined as payann/emp\n",
    "pay_data = requests.get(api_PAY).json()\n",
    "pay_df = pd.DataFrame(pay_data[1:], columns=pay_data[0])\n",
    "\n",
    "#trends in aiusage across states: companies that did not use (T1E03B01), and companies that totally use it (T1E03B99)\n",
    "ai_use_data = requests.get(api_AI_use).json()\n",
    "ai_use_df = pd.DataFrame(ai_use_data[1:], columns=ai_use_data[0])\n",
    "\n",
    "#trends in cloud usage across states: companies that did not use (T2E03B01), companies that totally use it (T2E03B99)\n",
    "cloud_use_data = requests.get(api_CLOUD_use).json()\n",
    "cloud_use_df = pd.DataFrame(cloud_use_data[1:], columns=cloud_use_data[0])\n",
    "\n",
    "#trends in companies wrt ai based tech: companies that do sell (T1E20J01), companies that don't (T1E20J02)\n",
    "ai_sell_data = requests.get(api_AI_sell).json()\n",
    "ai_sell_df = pd.DataFrame(ai_sell_data[1:], columns=ai_sell_data[0])\n",
    "\n",
    "#trends in companies wrt cloud-based tech: companies that do sell (T2E20J01), companies that don't (T2E20J02)\n",
    "cloud_sell_data = requests.get(api_CLOUD_sell).json()\n",
    "cloud_sell_df = pd.DataFrame(cloud_sell_data[1:], columns=cloud_sell_data[0])\n"
   ]
  },
  {
   "cell_type": "markdown",
   "id": "fbc5021e",
   "metadata": {},
   "source": [
    "Next, we clean and transform the data for practical use. First, we filter the rows according to their codes, and then we re-merge the filtered tables into combined tables for ease of comparison. Additionally, we remove unneeded columns, retype numerical data, and relabel the columns for easy use. (TRANSFORM PHASE)"
   ]
  },
  {
   "cell_type": "code",
   "execution_count": 3,
   "id": "4ca11a0b",
   "metadata": {
    "scrolled": true
   },
   "outputs": [],
   "source": [
    "#pay_df transforming --- adding column called AvgPay, defined as payann/emp\n",
    "pay_df['EMP'] = pd.to_numeric(pay_df['EMP'])\n",
    "pay_df['PAYANN'] = pd.to_numeric(pay_df['PAYANN'])\n",
    "pay_df['AvgPay'] = pay_df['PAYANN']/pay_df['EMP']\n",
    "pay_df = pay_df[['NAME','EMP','PAYANN','AvgPay']]\n",
    "pay_df.rename(columns={\"NAME\":'State', 'EMP':'TotalEmployees', 'PAYANN':'AnnualPay'}, inplace=True)\n",
    "\n",
    "#ai_use_df transforming, filtering out ai users and non-users from ai-users and merging them into one cleaner table\n",
    "ai_users = ai_use_df[ai_use_df['TECHUSE'] == 'T1E03B99']\n",
    "ai_nonusers = ai_use_df[ai_use_df['TECHUSE'] == 'T1E03B01']\n",
    "ai_use_merge = ai_users.merge(ai_nonusers, on='NAME', how='inner', suffixes=('_user', '_nonuser'))\n",
    "ai_use_merge = ai_use_merge[['NAME','FIRMPDEMP_user','FIRMPDEMP_PCT_user','EMP_user','FIRMPDEMP_nonuser','FIRMPDEMP_PCT_nonuser','EMP_nonuser']]\n",
    "ai_use_merge.rename(columns={'NAME':'State', 'FIRMPDEMP_user':'TotalFirmsUsingAI', 'FIRMPDEMP_PCT_user':'PercentFirmsUsingAI','EMP_user':'TotalEmployeesUsingAI', 'FIRMPDEMP_nonuser':'TotalFirmsNoAI', 'FIRMPDEMP_PCT_nonuser':'PercentFirmsNoAI', 'EMP_nonuser':'TotalEmployeesNoAI'}, inplace=True)\n",
    "ai_use_merge[['TotalFirmsUsingAI', 'PercentFirmsUsingAI', 'TotalEmployeesUsingAI', 'TotalFirmsNoAI', 'PercentFirmsNoAI', 'TotalEmployeesNoAI']] = ai_use_merge[['TotalFirmsUsingAI', 'PercentFirmsUsingAI', 'TotalEmployeesUsingAI', 'TotalFirmsNoAI', 'PercentFirmsNoAI', 'TotalEmployeesNoAI']].apply(pd.to_numeric)\n",
    "\n",
    "\n",
    "#cloud_use_df transforming, filtering out cloud users and non-users from cloud-users and merging them into one cleaner table\n",
    "cloud_users = cloud_use_df[cloud_use_df['TECHUSE'] == 'T2E03B99']\n",
    "cloud_nonusers = cloud_use_df[cloud_use_df['TECHUSE'] == 'T2E03B01']\n",
    "cloud_use_merge = cloud_users.merge(cloud_nonusers, on='NAME', how='inner', suffixes=('_user', '_nonuser'))\n",
    "cloud_use_merge = cloud_use_merge[['NAME','FIRMPDEMP_user','FIRMPDEMP_PCT_user','EMP_user','FIRMPDEMP_nonuser','FIRMPDEMP_PCT_nonuser','EMP_nonuser']]\n",
    "cloud_use_merge.rename(columns={'NAME':'State', 'FIRMPDEMP_user':'TotalFirmsUsingCloud', 'FIRMPDEMP_PCT_user':'PercentFirmsUsingCloud','EMP_user':'TotalEmployeesUsingCloud', 'FIRMPDEMP_nonuser':'TotalFirmsNoCloud', 'FIRMPDEMP_PCT_nonuser':'PercentFirmsNoCloud', 'EMP_nonuser':'TotalEmployeesNoCloud'}, inplace=True)\n",
    "cloud_use_merge[['TotalFirmsUsingCloud', 'PercentFirmsUsingCloud', 'TotalEmployeesUsingCloud', 'TotalFirmsNoCloud', 'PercentFirmsNoCloud', 'TotalEmployeesNoCloud']] = cloud_use_merge[['TotalFirmsUsingCloud', 'PercentFirmsUsingCloud', 'TotalEmployeesUsingCloud', 'TotalFirmsNoCloud', 'PercentFirmsNoCloud', 'TotalEmployeesNoCloud']].apply(pd.to_numeric)\n",
    "\n",
    "\n",
    "#ai_sell_df transforming, filtering out companies that sell and companies that don't sell ai-based tech and merging into one cleaner table\n",
    "ai_sellers = ai_sell_df[ai_sell_df['TECHSELL'] == 'T1E20J01']\n",
    "ai_nonsellers = ai_sell_df[ai_sell_df['TECHSELL'] == 'T1E20J02']\n",
    "ai_sell_merge = ai_sellers.merge(ai_nonsellers, on='NAME', how='inner', suffixes=('_seller', '_nonseller'))\n",
    "ai_sell_merge = ai_sell_merge[['NAME','FIRMPDEMP_seller','FIRMPDEMP_PCT_seller','EMP_seller','FIRMPDEMP_nonseller','FIRMPDEMP_PCT_nonseller','EMP_nonseller']]\n",
    "ai_sell_merge.rename(columns={'NAME':'State', 'FIRMPDEMP_seller':'TotalFirmsSellingAI', 'FIRMPDEMP_PCT_seller':'PercentFirmsSellingAI','EMP_seller':'TotalEmployeesSellingAI', 'FIRMPDEMP_nonseller':'TotalFirmsNotSellingAI', 'FIRMPDEMP_PCT_nonseller':'PercentFirmsNotSellingAI', 'EMP_nonseller':'TotalEmployeesNotSellingAI'}, inplace=True)\n",
    "ai_sell_merge[['TotalFirmsSellingAI', 'PercentFirmsSellingAI', 'TotalEmployeesSellingAI', 'TotalFirmsNotSellingAI', 'PercentFirmsNotSellingAI', 'TotalEmployeesNotSellingAI']] = ai_sell_merge[['TotalFirmsSellingAI', 'PercentFirmsSellingAI', 'TotalEmployeesSellingAI', 'TotalFirmsNotSellingAI', 'PercentFirmsNotSellingAI', 'TotalEmployeesNotSellingAI']].apply(pd.to_numeric)\n",
    "\n",
    "#cloud_sell_df transforming, filtering out comanies that sell and don't sell colud-based tech and merging into one cleaner table\n",
    "cloud_sellers = cloud_sell_df[cloud_sell_df['TECHSELL'] == 'T2E20J01']\n",
    "cloud_nonsellers = cloud_sell_df[cloud_sell_df['TECHSELL'] == 'T2E20J02']\n",
    "cloud_sell_merge = cloud_sellers.merge(cloud_nonsellers, on='NAME',  how='inner', suffixes=('_seller', '_nonseller'))\n",
    "cloud_sell_merge = cloud_sell_merge[['NAME','FIRMPDEMP_seller','FIRMPDEMP_PCT_seller','EMP_seller','FIRMPDEMP_nonseller','FIRMPDEMP_PCT_nonseller','EMP_nonseller']]\n",
    "cloud_sell_merge.rename(columns={'NAME':'State', 'FIRMPDEMP_seller':'TotalFirmsSellingCloud', 'FIRMPDEMP_PCT_seller':'PercentFirmsSellingCloud','EMP_seller':'TotalEmployeesSellingCloud', 'FIRMPDEMP_nonseller':'TotalFirmsNotSellingCloud', 'FIRMPDEMP_PCT_nonseller':'PercentFirmsNotSellingCloud', 'EMP_nonseller':'TotalEmployeesNotSellingCloud'}, inplace=True)\n",
    "cloud_sell_merge[['TotalFirmsSellingCloud', 'PercentFirmsSellingCloud', 'TotalEmployeesSellingCloud', 'TotalFirmsNotSellingCloud', 'PercentFirmsNotSellingCloud', 'TotalEmployeesNotSellingCloud']] = cloud_sell_merge[['TotalFirmsSellingCloud', 'PercentFirmsSellingCloud', 'TotalEmployeesSellingCloud', 'TotalFirmsNotSellingCloud', 'PercentFirmsNotSellingCloud', 'TotalEmployeesNotSellingCloud']].apply(pd.to_numeric)\n"
   ]
  },
  {
   "cell_type": "markdown",
   "metadata": {},
   "source": [
    "Finally, we save the transformed dataframes into CSV files so that we can easily access the data in other Python scripts."
   ]
  },
  {
   "cell_type": "code",
   "execution_count": null,
   "metadata": {},
   "outputs": [],
   "source": [
    "pay_df.to_csv('pay_data.csv')\n",
    "ai_use_merge.to_csv('ai_use.csv')\n",
    "cloud_use_merge.to_csv('cloud_use.csv')\n",
    "ai_sell_merge.to_csv('ai_sell.csv')\n",
    "cloud_sell_merge.to_csv('cloud_sell.csv')"
   ]
  },
  {
   "cell_type": "code",
   "execution_count": null,
   "metadata": {},
   "outputs": [],
   "source": []
  }
 ],
 "metadata": {
  "interpreter": {
   "hash": "7fa47aad1bece0a5978b21ba904b92297a6df868d7b71e89070131c8c7dc9e80"
  },
  "kernelspec": {
   "display_name": "Python 3.8.8 64-bit ('base': conda)",
   "name": "python3"
  },
  "language_info": {
   "codemirror_mode": {
    "name": "ipython",
    "version": 3
   },
   "file_extension": ".py",
   "mimetype": "text/x-python",
   "name": "python",
   "nbconvert_exporter": "python",
   "pygments_lexer": "ipython3",
   "version": "3.8.8"
  }
 },
 "nbformat": 4,
 "nbformat_minor": 5
}
